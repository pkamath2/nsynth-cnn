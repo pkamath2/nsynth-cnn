{
 "cells": [
  {
   "cell_type": "code",
   "execution_count": 4,
   "metadata": {},
   "outputs": [
    {
     "data": {
      "text/plain": [
       "'1.7.1'"
      ]
     },
     "execution_count": 4,
     "metadata": {},
     "output_type": "execute_result"
    }
   ],
   "source": [
    "import librosa\n",
    "from librosa.display import specshow\n",
    "import os\n",
    "import numpy as np\n",
    "from IPython.display import Audio\n",
    "import matplotlib.pyplot as plt\n",
    "import torch as torch\n",
    "import torch.optim as optim\n",
    "import torch.nn as nn\n",
    "import torch.nn.functional as F\n",
    "from torch.utils.data import Dataset\n",
    "import pandas as pd\n",
    "import json\n",
    "from paramManager import paramManager\n",
    "from pathlib import Path\n",
    "import soundfile as sf\n",
    "import time\n",
    "\n",
    "torch.__version__"
   ]
  },
  {
   "cell_type": "code",
   "execution_count": 5,
   "metadata": {},
   "outputs": [],
   "source": [
    "audio_valid_dir = '/home/purnima/appdir/Github/DATA/NSynth/nsynth-valid/audio/'\n",
    "labels_valid_dir = '/home/purnima/appdir/Github/DATA/NSynth/nsynth-valid/'\n",
    "\n",
    "audio_train_dir = '/home/purnima/appdir/Github/DATA/NSynth/nsynth-train/audio/'\n",
    "labels_train_dir = '/home/purnima/appdir/Github/DATA/NSynth/nsynth-train/'\n",
    "\n",
    "audio_test_dir = '/home/purnima/appdir/Github/DATA/NSynth/nsynth-testid/audio/'\n",
    "labels_test_dir = '/home/purnima/appdir/Github/DATA/NSynth/nsynth-test/'\n",
    "\n",
    "filename = 'examples-subset-acoustic-synthetic-electronic-3000.json'\n",
    "filename = 'examples.json'\n",
    "filename = 'examples-subset-full-acoustic-3000.json'"
   ]
  },
  {
   "cell_type": "code",
   "execution_count": 6,
   "metadata": {},
   "outputs": [],
   "source": [
    "test_df = pd.DataFrame()\n",
    "with open(os.path.join(labels_test_dir, filename)) as f:\n",
    "    params = json.load(f)\n",
    "    test_df = pd.DataFrame.from_dict(params)\n",
    "    test_df = test_df.transpose()\n",
    "\n",
    "train_df = pd.DataFrame()\n",
    "with open(os.path.join(labels_train_dir, filename)) as f:\n",
    "    params = json.load(f)\n",
    "    train_df = pd.DataFrame.from_dict(params)\n",
    "    train_df = train_df.transpose()\n",
    "    \n",
    "valid_df = pd.DataFrame()\n",
    "with open(os.path.join(labels_valid_dir, filename)) as f:\n",
    "    params = json.load(f)\n",
    "    valid_df = pd.DataFrame.from_dict(params)\n",
    "    valid_df = valid_df.transpose()"
   ]
  },
  {
   "cell_type": "code",
   "execution_count": 7,
   "metadata": {},
   "outputs": [
    {
     "name": "stdout",
     "output_type": "stream",
     "text": [
      "Total instruments in train:  24000 77.88920260928829\n",
      "Total instruments in valid:  5124 16.62934475708305\n",
      "Total instruments in test:  1689 5.481452633628663\n",
      "----------------------------------\n",
      "acoustic    24000\n",
      "Name: instrument_source_str, dtype: int64\n",
      "----------------------------------\n",
      "Electronic breakdown:\n",
      "Series([], Name: instrument_family_str, dtype: int64)\n",
      "----------------------------------\n",
      "Acoustic breakdown:\n",
      "brass       3000\n",
      "vocal       3000\n",
      "guitar      3000\n",
      "mallet      3000\n",
      "string      3000\n",
      "keyboard    3000\n",
      "flute       3000\n",
      "reed        3000\n",
      "Name: instrument_family_str, dtype: int64\n",
      "----------------------------------\n",
      "Synthetic breakdown:\n",
      "Series([], Name: instrument_family_str, dtype: int64)\n"
     ]
    }
   ],
   "source": [
    "instrument_list = ['keyboard','guitar','mallet','string','reed','brass','vocal','flute','bass']\n",
    "total = sum(train_df.instrument_source_str.value_counts()) + sum(valid_df.instrument_source_str.value_counts()) + sum(test_df.instrument_source_str.value_counts())\n",
    "\n",
    "print('Total instruments in train: ',sum(train_df.instrument_source_str.value_counts()),sum(train_df.instrument_source_str.value_counts()) * 100/total)\n",
    "print('Total instruments in valid: ',sum(valid_df.instrument_source_str.value_counts()),sum(valid_df.instrument_source_str.value_counts()) * 100/total)\n",
    "print('Total instruments in test: ',sum(test_df.instrument_source_str.value_counts()),sum(test_df.instrument_source_str.value_counts()) * 100/total)\n",
    "print('----------------------------------')\n",
    "print(train_df.instrument_source_str.value_counts())\n",
    "print('----------------------------------')\n",
    "print('Electronic breakdown:')\n",
    "print(train_df[(train_df['instrument_source_str']=='electronic')].instrument_family_str.value_counts())\n",
    "print('----------------------------------')\n",
    "print('Acoustic breakdown:')\n",
    "print(train_df[(train_df['instrument_source_str']=='acoustic')].instrument_family_str.value_counts())\n",
    "print('----------------------------------')\n",
    "print('Synthetic breakdown:')\n",
    "print(train_df[(train_df['instrument_source_str']=='synthetic')].instrument_family_str.value_counts())"
   ]
  },
  {
   "cell_type": "code",
   "execution_count": 8,
   "metadata": {},
   "outputs": [
    {
     "name": "stdout",
     "output_type": "stream",
     "text": [
      "Total instruments in train:  24000 77.88920260928829\n",
      "Total instruments in valid:  5124 16.62934475708305\n",
      "Total instruments in test:  1689 5.481452633628663\n",
      "----------------------------------\n",
      "acoustic    1689\n",
      "Name: instrument_source_str, dtype: int64\n",
      "----------------------------------\n",
      "Electronic breakdown:\n",
      "Series([], Name: instrument_family_str, dtype: int64)\n",
      "----------------------------------\n",
      "Acoustic breakdown:\n",
      "guitar      481\n",
      "string      306\n",
      "brass       269\n",
      "reed        235\n",
      "mallet      202\n",
      "keyboard    119\n",
      "flute        55\n",
      "vocal        22\n",
      "Name: instrument_family_str, dtype: int64\n",
      "----------------------------------\n",
      "Synthetic breakdown:\n",
      "Series([], Name: instrument_family_str, dtype: int64)\n"
     ]
    }
   ],
   "source": [
    "print('Total instruments in train: ',sum(train_df.instrument_source_str.value_counts()),sum(train_df.instrument_source_str.value_counts()) * 100/total)\n",
    "print('Total instruments in valid: ',sum(valid_df.instrument_source_str.value_counts()),sum(valid_df.instrument_source_str.value_counts()) * 100/total)\n",
    "print('Total instruments in test: ',sum(test_df.instrument_source_str.value_counts()),sum(test_df.instrument_source_str.value_counts()) * 100/total)\n",
    "print('----------------------------------')\n",
    "print(test_df.instrument_source_str.value_counts())\n",
    "print('----------------------------------')\n",
    "print('Electronic breakdown:')\n",
    "print(test_df[(test_df['instrument_source_str']=='electronic')].instrument_family_str.value_counts())\n",
    "print('----------------------------------')\n",
    "print('Acoustic breakdown:')\n",
    "print(test_df[(test_df['instrument_source_str']=='acoustic')].instrument_family_str.value_counts())\n",
    "print('----------------------------------')\n",
    "print('Synthetic breakdown:')\n",
    "print(test_df[(test_df['instrument_source_str']=='synthetic') ].instrument_family_str.value_counts())"
   ]
  },
  {
   "cell_type": "code",
   "execution_count": 9,
   "metadata": {},
   "outputs": [
    {
     "name": "stdout",
     "output_type": "stream",
     "text": [
      "Total instruments in train:  24000 77.88920260928829\n",
      "Total instruments in valid:  5124 16.62934475708305\n",
      "Total instruments in test:  1689 5.481452633628663\n",
      "----------------------------------\n",
      "acoustic    5124\n",
      "Name: instrument_source_str, dtype: int64\n",
      "----------------------------------\n",
      "Electronic breakdown:\n",
      "Series([], Name: instrument_family_str, dtype: int64)\n",
      "----------------------------------\n",
      "Acoustic breakdown:\n",
      "guitar      1482\n",
      "brass        886\n",
      "string       814\n",
      "reed         720\n",
      "mallet       663\n",
      "keyboard     321\n",
      "flute        155\n",
      "vocal         83\n",
      "Name: instrument_family_str, dtype: int64\n",
      "----------------------------------\n",
      "Synthetic breakdown:\n",
      "Series([], Name: instrument_family_str, dtype: int64)\n"
     ]
    }
   ],
   "source": [
    "print('Total instruments in train: ',sum(train_df.instrument_source_str.value_counts()),sum(train_df.instrument_source_str.value_counts()) * 100/total)\n",
    "print('Total instruments in valid: ',sum(valid_df.instrument_source_str.value_counts()),sum(valid_df.instrument_source_str.value_counts()) * 100/total)\n",
    "print('Total instruments in test: ',sum(test_df.instrument_source_str.value_counts()),sum(test_df.instrument_source_str.value_counts()) * 100/total)\n",
    "print('----------------------------------')\n",
    "print(valid_df.instrument_source_str.value_counts())\n",
    "print('----------------------------------')\n",
    "print('Electronic breakdown:')\n",
    "print(valid_df[(valid_df['instrument_source_str']=='electronic')].instrument_family_str.value_counts())\n",
    "print('----------------------------------')\n",
    "print('Acoustic breakdown:')\n",
    "print(valid_df[(valid_df['instrument_source_str']=='acoustic')].instrument_family_str.value_counts())\n",
    "print('----------------------------------')\n",
    "print('Synthetic breakdown:')\n",
    "print(valid_df[(valid_df['instrument_source_str']=='synthetic')].instrument_family_str.value_counts())"
   ]
  },
  {
   "cell_type": "code",
   "execution_count": 41,
   "metadata": {},
   "outputs": [],
   "source": [
    "train_3k_acoustic_df = pd.DataFrame()\n",
    "with open(os.path.join('/home/purnima/appdir/Github/DATA/NSynth/nsynth-train/', 'examples-subset-full-acoustic-3000.json')) as f:\n",
    "    params = json.load(f)\n",
    "    train_3k_acoustic_df = pd.DataFrame.from_dict(params)\n",
    "    train_3k_acoustic_df = train_3k_acoustic_df.transpose()\n",
    "    "
   ]
  },
  {
   "cell_type": "code",
   "execution_count": null,
   "metadata": {},
   "outputs": [],
   "source": []
  }
 ],
 "metadata": {
  "kernelspec": {
   "display_name": "Python [conda env:pDL] *",
   "language": "python",
   "name": "conda-env-pDL-py"
  },
  "language_info": {
   "codemirror_mode": {
    "name": "ipython",
    "version": 3
   },
   "file_extension": ".py",
   "mimetype": "text/x-python",
   "name": "python",
   "nbconvert_exporter": "python",
   "pygments_lexer": "ipython3",
   "version": "3.8.6"
  }
 },
 "nbformat": 4,
 "nbformat_minor": 4
}
